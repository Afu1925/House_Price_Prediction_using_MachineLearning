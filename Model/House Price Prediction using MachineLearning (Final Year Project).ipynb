{
 "cells": [
  {
   "cell_type": "markdown",
   "id": "10842724",
   "metadata": {},
   "source": [
    "# Import Libraries"
   ]
  },
  {
   "cell_type": "code",
   "execution_count": 1,
   "id": "5c9ba198",
   "metadata": {},
   "outputs": [],
   "source": [
    "import pandas as pd\n",
    "import numpy as np\n",
    "import joblib\n",
    "import json\n",
    "import seaborn as sns\n",
    "import matplotlib.pyplot as plt\n",
    "from sklearn.model_selection import train_test_split\n",
    "from sklearn.preprocessing import StandardScaler, OneHotEncoder\n",
    "from sklearn.compose import ColumnTransformer\n",
    "from sklearn.pipeline import Pipeline\n",
    "from sklearn.impute import SimpleImputer\n",
    "from sklearn.linear_model import LinearRegression\n",
    "from sklearn.tree import DecisionTreeRegressor\n",
    "from sklearn.ensemble import RandomForestRegressor\n",
    "from sklearn.ensemble import GradientBoostingRegressor\n",
    "from sklearn.metrics import mean_squared_error, mean_absolute_error, r2_score"
   ]
  },
  {
   "cell_type": "markdown",
   "id": "a9081c27",
   "metadata": {},
   "source": [
    "## Load data"
   ]
  },
  {
   "cell_type": "code",
   "execution_count": 2,
   "id": "a58a5c82",
   "metadata": {
    "scrolled": true
   },
   "outputs": [
    {
     "name": "stdout",
     "output_type": "stream",
     "text": [
      "   PRT_ID        AREA  INT_SQFT  DIST_MAINROAD  N_BEDROOM  N_BATHROOM  N_ROOM  \\\n",
      "0  P03210  Karapakkam      1004            131        1.0         1.0       3   \n",
      "1  P09411  Anna Nagar      1986             26        2.0         1.0       5   \n",
      "2  P01812       Adyar       909             70        1.0         1.0       3   \n",
      "3  P05346   Velachery      1855             14        3.0         2.0       5   \n",
      "4  P06210  Karapakkam      1226             84        1.0         1.0       3   \n",
      "\n",
      "  SALE_COND PARK_FACIL   BUILDTYPE UTILITY_AVAIL  STREET MZZONE  QS_ROOMS  \\\n",
      "0  AbNormal        Yes  Commercial        AllPub   Paved      A       4.0   \n",
      "1  AbNormal         No  Commercial        AllPub  Gravel     RH       4.9   \n",
      "2  AbNormal        Yes  Commercial           ELO  Gravel     RL       4.1   \n",
      "3    Family         No      Others       NoSewr    Paved      I       4.7   \n",
      "4  AbNormal        Yes      Others        AllPub  Gravel      C       3.0   \n",
      "\n",
      "   QS_BATHROOM  QS_BEDROOM  QS_OVERALL  COMMIS  SALES_PRICE  \n",
      "0          3.9         4.9       4.330  144400      7600000  \n",
      "1          4.2         2.5       3.765  304049     21717770  \n",
      "2          3.8         2.2       3.090   92114     13159200  \n",
      "3          3.9         3.6       4.010   77042      9630290  \n",
      "4          2.5         4.1       3.290   74063      7406250  \n"
     ]
    }
   ],
   "source": [
    "housing = pd.read_csv(r'D:\\chennai_house_price_prediction.csv')\n",
    "print(housing.head())\n",
    "if 'AREA' in housing.columns:\n",
    "    housing['AREA']=housing['AREA'].replace(\n",
    "    {\n",
    "        'Chrompt':'Chrompet',\n",
    "        'Chrmpet':'Chrompet',\n",
    "        'Chormpet':'Chrompet',\n",
    "        'Karapakam':'Karapakkam',\n",
    "        'KKNagar':'KK Nagar',\n",
    "        'Velchery':'Velachery',\n",
    "        'Ana Nagar':'Anna Nagar',\n",
    "        'Ann Nagar':'Anna Nagar',\n",
    "        'Adyr':'Adyar',\n",
    "        'TNagar':'T Nagar'\n",
    "    }\n",
    "    )\n",
    "    housing['AREA']=housing['AREA'].str.title()\n",
    "if 'SALE_COND' in housing.columns:\n",
    "    housing['SALE_COND']=housing['SALE_COND'].replace(\n",
    "    {\n",
    "        'Adj Land':'AdjLand',\n",
    "        'Partiall':'Partial',\n",
    "        'PartiaLl':'Partial',\n",
    "        'Ab Normal':'AbNormal'\n",
    "    }\n",
    "    )\n",
    "    housing['SALE_COND']=housing['SALE_COND'].str.title()\n",
    "if 'PARK_FACIL' in housing.columns:\n",
    "    housing['PARK_FACIL']=housing['PARK_FACIL'].replace(\n",
    "    {\n",
    "        'Noo':'No'\n",
    "    }\n",
    "    )\n",
    "    housing['PARK_FACIL']=housing['PARK_FACIL'].str.title()\n",
    "if 'BUILDTYPE' in housing.columns:\n",
    "    housing['BUILDTYPE']=housing['BUILDTYPE'].replace(\n",
    "    {\n",
    "        'Comercial':'Commercial',\n",
    "        'Other':'Others'\n",
    "    }\n",
    "    )\n",
    "    housing['BUILDTYPE']=housing['BUILDTYPE'].str.title()\n",
    "if 'UTILITY_AVAIL' in housing.columns:\n",
    "    housing['UTILITY_AVAIL']=housing['UTILITY_AVAIL'].replace(\n",
    "    {\n",
    "        'All Pub':'AllPub',\n",
    "        'NoSewr':'NoSeWa'\n",
    "    }\n",
    "    )\n",
    "    housing['UTILITY_AVAIL']=housing['UTILITY_AVAIL'].str.title()\n",
    "if 'STREET' in housing.columns:\n",
    "    housing['STREET']=housing['STREET'].replace(\n",
    "    {\n",
    "        'Pavd':'Paved',\n",
    "        'NoAccess':'No Access'\n",
    "    }\n",
    "    )\n",
    "    housing['STREET']=housing['STREET'].str.title()"
   ]
  },
  {
   "cell_type": "markdown",
   "id": "67e856d8",
   "metadata": {},
   "source": [
    "## Dataset Columns"
   ]
  },
  {
   "cell_type": "code",
   "execution_count": 3,
   "id": "5c63aeb7",
   "metadata": {},
   "outputs": [
    {
     "name": "stdout",
     "output_type": "stream",
     "text": [
      "Dataset Columns:\n",
      "['PRT_ID', 'AREA', 'INT_SQFT', 'DIST_MAINROAD', 'N_BEDROOM', 'N_BATHROOM', 'N_ROOM', 'SALE_COND', 'PARK_FACIL', 'BUILDTYPE', 'UTILITY_AVAIL', 'STREET', 'MZZONE', 'QS_ROOMS', 'QS_BATHROOM', 'QS_BEDROOM', 'QS_OVERALL', 'COMMIS', 'SALES_PRICE']\n"
     ]
    }
   ],
   "source": [
    "print(\"Dataset Columns:\")\n",
    "print(housing.columns.tolist())"
   ]
  },
  {
   "cell_type": "markdown",
   "id": "43b921b1",
   "metadata": {},
   "source": [
    "## Dataset Information"
   ]
  },
  {
   "cell_type": "code",
   "execution_count": 4,
   "id": "24876ee3",
   "metadata": {},
   "outputs": [
    {
     "name": "stdout",
     "output_type": "stream",
     "text": [
      "Dataset Information\n",
      "\n",
      "\n",
      "<class 'pandas.core.frame.DataFrame'>\n",
      "RangeIndex: 7110 entries, 0 to 7109\n",
      "Data columns (total 19 columns):\n",
      " #   Column         Non-Null Count  Dtype  \n",
      "---  ------         --------------  -----  \n",
      " 0   PRT_ID         7110 non-null   object \n",
      " 1   AREA           7110 non-null   object \n",
      " 2   INT_SQFT       7110 non-null   int64  \n",
      " 3   DIST_MAINROAD  7110 non-null   int64  \n",
      " 4   N_BEDROOM      7109 non-null   float64\n",
      " 5   N_BATHROOM     7105 non-null   float64\n",
      " 6   N_ROOM         7110 non-null   int64  \n",
      " 7   SALE_COND      7110 non-null   object \n",
      " 8   PARK_FACIL     7110 non-null   object \n",
      " 9   BUILDTYPE      7110 non-null   object \n",
      " 10  UTILITY_AVAIL  7110 non-null   object \n",
      " 11  STREET         7110 non-null   object \n",
      " 12  MZZONE         7110 non-null   object \n",
      " 13  QS_ROOMS       7110 non-null   float64\n",
      " 14  QS_BATHROOM    7110 non-null   float64\n",
      " 15  QS_BEDROOM     7110 non-null   float64\n",
      " 16  QS_OVERALL     7062 non-null   float64\n",
      " 17  COMMIS         7110 non-null   int64  \n",
      " 18  SALES_PRICE    7110 non-null   int64  \n",
      "dtypes: float64(6), int64(5), object(8)\n",
      "memory usage: 1.0+ MB\n"
     ]
    }
   ],
   "source": [
    "print(\"Dataset Information\\n\\n\")\n",
    "housing.info()"
   ]
  },
  {
   "cell_type": "markdown",
   "id": "7a788c4f",
   "metadata": {},
   "source": [
    "## Summary Statistics"
   ]
  },
  {
   "cell_type": "code",
   "execution_count": 5,
   "id": "88cc8559",
   "metadata": {},
   "outputs": [
    {
     "name": "stdout",
     "output_type": "stream",
     "text": [
      "Summary Statistics:\n",
      "\n",
      "\n"
     ]
    },
    {
     "data": {
      "text/html": [
       "<div>\n",
       "<style scoped>\n",
       "    .dataframe tbody tr th:only-of-type {\n",
       "        vertical-align: middle;\n",
       "    }\n",
       "\n",
       "    .dataframe tbody tr th {\n",
       "        vertical-align: top;\n",
       "    }\n",
       "\n",
       "    .dataframe thead th {\n",
       "        text-align: right;\n",
       "    }\n",
       "</style>\n",
       "<table border=\"1\" class=\"dataframe\">\n",
       "  <thead>\n",
       "    <tr style=\"text-align: right;\">\n",
       "      <th></th>\n",
       "      <th>INT_SQFT</th>\n",
       "      <th>DIST_MAINROAD</th>\n",
       "      <th>N_BEDROOM</th>\n",
       "      <th>N_BATHROOM</th>\n",
       "      <th>N_ROOM</th>\n",
       "      <th>QS_ROOMS</th>\n",
       "      <th>QS_BATHROOM</th>\n",
       "      <th>QS_BEDROOM</th>\n",
       "      <th>QS_OVERALL</th>\n",
       "      <th>COMMIS</th>\n",
       "      <th>SALES_PRICE</th>\n",
       "    </tr>\n",
       "  </thead>\n",
       "  <tbody>\n",
       "    <tr>\n",
       "      <th>count</th>\n",
       "      <td>7110.000000</td>\n",
       "      <td>7110.000000</td>\n",
       "      <td>7109.000000</td>\n",
       "      <td>7105.000000</td>\n",
       "      <td>7110.000000</td>\n",
       "      <td>7110.000000</td>\n",
       "      <td>7110.000000</td>\n",
       "      <td>7110.000000</td>\n",
       "      <td>7062.000000</td>\n",
       "      <td>7110.000000</td>\n",
       "      <td>7.110000e+03</td>\n",
       "    </tr>\n",
       "    <tr>\n",
       "      <th>mean</th>\n",
       "      <td>1382.047398</td>\n",
       "      <td>99.596203</td>\n",
       "      <td>1.637220</td>\n",
       "      <td>1.213371</td>\n",
       "      <td>3.688889</td>\n",
       "      <td>3.517539</td>\n",
       "      <td>3.507257</td>\n",
       "      <td>3.485443</td>\n",
       "      <td>3.503324</td>\n",
       "      <td>141002.772152</td>\n",
       "      <td>1.089371e+07</td>\n",
       "    </tr>\n",
       "    <tr>\n",
       "      <th>std</th>\n",
       "      <td>457.383827</td>\n",
       "      <td>57.402087</td>\n",
       "      <td>0.803008</td>\n",
       "      <td>0.409716</td>\n",
       "      <td>1.019146</td>\n",
       "      <td>0.891928</td>\n",
       "      <td>0.897771</td>\n",
       "      <td>0.887286</td>\n",
       "      <td>0.527219</td>\n",
       "      <td>78762.947460</td>\n",
       "      <td>3.769706e+06</td>\n",
       "    </tr>\n",
       "    <tr>\n",
       "      <th>min</th>\n",
       "      <td>500.000000</td>\n",
       "      <td>0.000000</td>\n",
       "      <td>1.000000</td>\n",
       "      <td>1.000000</td>\n",
       "      <td>2.000000</td>\n",
       "      <td>2.000000</td>\n",
       "      <td>2.000000</td>\n",
       "      <td>2.000000</td>\n",
       "      <td>2.000000</td>\n",
       "      <td>5055.000000</td>\n",
       "      <td>2.156875e+06</td>\n",
       "    </tr>\n",
       "    <tr>\n",
       "      <th>25%</th>\n",
       "      <td>993.000000</td>\n",
       "      <td>50.000000</td>\n",
       "      <td>1.000000</td>\n",
       "      <td>1.000000</td>\n",
       "      <td>3.000000</td>\n",
       "      <td>2.700000</td>\n",
       "      <td>2.700000</td>\n",
       "      <td>2.700000</td>\n",
       "      <td>3.130000</td>\n",
       "      <td>84235.750000</td>\n",
       "      <td>8.271425e+06</td>\n",
       "    </tr>\n",
       "    <tr>\n",
       "      <th>50%</th>\n",
       "      <td>1373.000000</td>\n",
       "      <td>99.000000</td>\n",
       "      <td>1.000000</td>\n",
       "      <td>1.000000</td>\n",
       "      <td>4.000000</td>\n",
       "      <td>3.500000</td>\n",
       "      <td>3.500000</td>\n",
       "      <td>3.500000</td>\n",
       "      <td>3.500000</td>\n",
       "      <td>127595.500000</td>\n",
       "      <td>1.033484e+07</td>\n",
       "    </tr>\n",
       "    <tr>\n",
       "      <th>75%</th>\n",
       "      <td>1744.000000</td>\n",
       "      <td>148.000000</td>\n",
       "      <td>2.000000</td>\n",
       "      <td>1.000000</td>\n",
       "      <td>4.000000</td>\n",
       "      <td>4.300000</td>\n",
       "      <td>4.300000</td>\n",
       "      <td>4.300000</td>\n",
       "      <td>3.890000</td>\n",
       "      <td>184497.000000</td>\n",
       "      <td>1.299350e+07</td>\n",
       "    </tr>\n",
       "    <tr>\n",
       "      <th>max</th>\n",
       "      <td>2500.000000</td>\n",
       "      <td>200.000000</td>\n",
       "      <td>4.000000</td>\n",
       "      <td>2.000000</td>\n",
       "      <td>6.000000</td>\n",
       "      <td>5.000000</td>\n",
       "      <td>5.000000</td>\n",
       "      <td>5.000000</td>\n",
       "      <td>4.970000</td>\n",
       "      <td>495405.000000</td>\n",
       "      <td>2.366734e+07</td>\n",
       "    </tr>\n",
       "  </tbody>\n",
       "</table>\n",
       "</div>"
      ],
      "text/plain": [
       "          INT_SQFT  DIST_MAINROAD    N_BEDROOM   N_BATHROOM       N_ROOM  \\\n",
       "count  7110.000000    7110.000000  7109.000000  7105.000000  7110.000000   \n",
       "mean   1382.047398      99.596203     1.637220     1.213371     3.688889   \n",
       "std     457.383827      57.402087     0.803008     0.409716     1.019146   \n",
       "min     500.000000       0.000000     1.000000     1.000000     2.000000   \n",
       "25%     993.000000      50.000000     1.000000     1.000000     3.000000   \n",
       "50%    1373.000000      99.000000     1.000000     1.000000     4.000000   \n",
       "75%    1744.000000     148.000000     2.000000     1.000000     4.000000   \n",
       "max    2500.000000     200.000000     4.000000     2.000000     6.000000   \n",
       "\n",
       "          QS_ROOMS  QS_BATHROOM   QS_BEDROOM   QS_OVERALL         COMMIS  \\\n",
       "count  7110.000000  7110.000000  7110.000000  7062.000000    7110.000000   \n",
       "mean      3.517539     3.507257     3.485443     3.503324  141002.772152   \n",
       "std       0.891928     0.897771     0.887286     0.527219   78762.947460   \n",
       "min       2.000000     2.000000     2.000000     2.000000    5055.000000   \n",
       "25%       2.700000     2.700000     2.700000     3.130000   84235.750000   \n",
       "50%       3.500000     3.500000     3.500000     3.500000  127595.500000   \n",
       "75%       4.300000     4.300000     4.300000     3.890000  184497.000000   \n",
       "max       5.000000     5.000000     5.000000     4.970000  495405.000000   \n",
       "\n",
       "        SALES_PRICE  \n",
       "count  7.110000e+03  \n",
       "mean   1.089371e+07  \n",
       "std    3.769706e+06  \n",
       "min    2.156875e+06  \n",
       "25%    8.271425e+06  \n",
       "50%    1.033484e+07  \n",
       "75%    1.299350e+07  \n",
       "max    2.366734e+07  "
      ]
     },
     "execution_count": 5,
     "metadata": {},
     "output_type": "execute_result"
    }
   ],
   "source": [
    "print(\"Summary Statistics:\\n\\n\")\n",
    "housing.describe()"
   ]
  },
  {
   "cell_type": "markdown",
   "id": "71bb1699",
   "metadata": {},
   "source": [
    "## Missing values"
   ]
  },
  {
   "cell_type": "code",
   "execution_count": 6,
   "id": "e3473661",
   "metadata": {},
   "outputs": [
    {
     "name": "stdout",
     "output_type": "stream",
     "text": [
      "Missing Values:\n",
      "\n",
      "\n"
     ]
    },
    {
     "data": {
      "text/plain": [
       "PRT_ID            0\n",
       "AREA              0\n",
       "INT_SQFT          0\n",
       "DIST_MAINROAD     0\n",
       "N_BEDROOM         1\n",
       "N_BATHROOM        5\n",
       "N_ROOM            0\n",
       "SALE_COND         0\n",
       "PARK_FACIL        0\n",
       "BUILDTYPE         0\n",
       "UTILITY_AVAIL     0\n",
       "STREET            0\n",
       "MZZONE            0\n",
       "QS_ROOMS          0\n",
       "QS_BATHROOM       0\n",
       "QS_BEDROOM        0\n",
       "QS_OVERALL       48\n",
       "COMMIS            0\n",
       "SALES_PRICE       0\n",
       "dtype: int64"
      ]
     },
     "execution_count": 6,
     "metadata": {},
     "output_type": "execute_result"
    }
   ],
   "source": [
    "print(\"Missing Values:\\n\\n\")\n",
    "housing.isnull().sum()"
   ]
  },
  {
   "cell_type": "code",
   "execution_count": 7,
   "id": "6b15f586",
   "metadata": {},
   "outputs": [],
   "source": [
    "# plt.figure(figsize=(20,5))\n",
    "# sns.heatmap(housing.isnull())"
   ]
  },
  {
   "cell_type": "markdown",
   "id": "9e408865",
   "metadata": {},
   "source": [
    "## Correlations"
   ]
  },
  {
   "cell_type": "code",
   "execution_count": 8,
   "id": "e3385913",
   "metadata": {},
   "outputs": [
    {
     "name": "stdout",
     "output_type": "stream",
     "text": [
      "\n",
      "Correlation of features with SALES_PRICE:\n",
      "SALES_PRICE      1.000000\n",
      "COMMIS           0.626130\n",
      "INT_SQFT         0.612023\n",
      "N_ROOM           0.602060\n",
      "N_BEDROOM        0.330269\n",
      "N_BATHROOM       0.108203\n",
      "QS_ROOMS         0.021786\n",
      "QS_OVERALL       0.020245\n",
      "DIST_MAINROAD    0.019052\n",
      "QS_BEDROOM       0.018430\n",
      "QS_BATHROOM     -0.011406\n",
      "Name: SALES_PRICE, dtype: float64\n"
     ]
    },
    {
     "data": {
      "image/png": "[encoded data removed]",
      "text/plain": [
       "<Figure size 800x500 with 2 Axes>"
      ]
     },
     "metadata": {},
     "output_type": "display_data"
    }
   ],
   "source": [
    "correlation = housing.corr(numeric_only=True)\n",
    "print(\"\\nCorrelation of features with SALES_PRICE:\")\n",
    "print(correlation[\"SALES_PRICE\"].sort_values(ascending=False))\n",
    "plt.figure(figsize=(8, 5))\n",
    "sns.heatmap(correlation, annot=True, cmap='coolwarm', fmt=\".2f\", linewidths=0.5)\n",
    "plt.title(\"Correlation Heatmap of Numeric Features\")\n",
    "plt.show()"
   ]
  },
  {
   "cell_type": "markdown",
   "id": "d988d816",
   "metadata": {},
   "source": [
    "## Handling Missing Values"
   ]
  },
  {
   "cell_type": "code",
   "execution_count": 9,
   "id": "f5b64d64",
   "metadata": {},
   "outputs": [],
   "source": [
    "# Handling missing values\n",
    "housing['N_BEDROOM'].fillna(housing['N_BEDROOM'].mode()[0], inplace=True)\n",
    "housing['N_BATHROOM'].fillna(housing['N_BATHROOM'].mode()[0], inplace=True)\n",
    "housing['QS_OVERALL'].fillna(housing['QS_OVERALL'].mean(), inplace=True)"
   ]
  },
  {
   "cell_type": "code",
   "execution_count": 10,
   "id": "d4f5e1aa",
   "metadata": {},
   "outputs": [],
   "source": [
    "# Splitting the dataset into features (X) and target variable (y)\n",
    "X = housing.drop(\"SALES_PRICE\", axis=1)\n",
    "y = housing[\"SALES_PRICE\"]"
   ]
  },
  {
   "cell_type": "code",
   "execution_count": 11,
   "id": "e99192f3",
   "metadata": {},
   "outputs": [
    {
     "data": {
      "text/html": [
       "<div>\n",
       "<style scoped>\n",
       "    .dataframe tbody tr th:only-of-type {\n",
       "        vertical-align: middle;\n",
       "    }\n",
       "\n",
       "    .dataframe tbody tr th {\n",
       "        vertical-align: top;\n",
       "    }\n",
       "\n",
       "    .dataframe thead th {\n",
       "        text-align: right;\n",
       "    }\n",
       "</style>\n",
       "<table border=\"1\" class=\"dataframe\">\n",
       "  <thead>\n",
       "    <tr style=\"text-align: right;\">\n",
       "      <th></th>\n",
       "      <th>PRT_ID</th>\n",
       "      <th>AREA</th>\n",
       "      <th>INT_SQFT</th>\n",
       "      <th>DIST_MAINROAD</th>\n",
       "      <th>N_BEDROOM</th>\n",
       "      <th>N_BATHROOM</th>\n",
       "      <th>N_ROOM</th>\n",
       "      <th>SALE_COND</th>\n",
       "      <th>PARK_FACIL</th>\n",
       "      <th>BUILDTYPE</th>\n",
       "      <th>UTILITY_AVAIL</th>\n",
       "      <th>STREET</th>\n",
       "      <th>MZZONE</th>\n",
       "      <th>QS_ROOMS</th>\n",
       "      <th>QS_BATHROOM</th>\n",
       "      <th>QS_BEDROOM</th>\n",
       "      <th>QS_OVERALL</th>\n",
       "      <th>COMMIS</th>\n",
       "    </tr>\n",
       "  </thead>\n",
       "  <tbody>\n",
       "    <tr>\n",
       "      <th>0</th>\n",
       "      <td>P03210</td>\n",
       "      <td>Karapakkam</td>\n",
       "      <td>1004</td>\n",
       "      <td>131</td>\n",
       "      <td>1.0</td>\n",
       "      <td>1.0</td>\n",
       "      <td>3</td>\n",
       "      <td>Abnormal</td>\n",
       "      <td>Yes</td>\n",
       "      <td>Commercial</td>\n",
       "      <td>Allpub</td>\n",
       "      <td>Paved</td>\n",
       "      <td>A</td>\n",
       "      <td>4.0</td>\n",
       "      <td>3.9</td>\n",
       "      <td>4.9</td>\n",
       "      <td>4.330</td>\n",
       "      <td>144400</td>\n",
       "    </tr>\n",
       "    <tr>\n",
       "      <th>1</th>\n",
       "      <td>P09411</td>\n",
       "      <td>Anna Nagar</td>\n",
       "      <td>1986</td>\n",
       "      <td>26</td>\n",
       "      <td>2.0</td>\n",
       "      <td>1.0</td>\n",
       "      <td>5</td>\n",
       "      <td>Abnormal</td>\n",
       "      <td>No</td>\n",
       "      <td>Commercial</td>\n",
       "      <td>Allpub</td>\n",
       "      <td>Gravel</td>\n",
       "      <td>RH</td>\n",
       "      <td>4.9</td>\n",
       "      <td>4.2</td>\n",
       "      <td>2.5</td>\n",
       "      <td>3.765</td>\n",
       "      <td>304049</td>\n",
       "    </tr>\n",
       "    <tr>\n",
       "      <th>2</th>\n",
       "      <td>P01812</td>\n",
       "      <td>Adyar</td>\n",
       "      <td>909</td>\n",
       "      <td>70</td>\n",
       "      <td>1.0</td>\n",
       "      <td>1.0</td>\n",
       "      <td>3</td>\n",
       "      <td>Abnormal</td>\n",
       "      <td>Yes</td>\n",
       "      <td>Commercial</td>\n",
       "      <td>Elo</td>\n",
       "      <td>Gravel</td>\n",
       "      <td>RL</td>\n",
       "      <td>4.1</td>\n",
       "      <td>3.8</td>\n",
       "      <td>2.2</td>\n",
       "      <td>3.090</td>\n",
       "      <td>92114</td>\n",
       "    </tr>\n",
       "    <tr>\n",
       "      <th>3</th>\n",
       "      <td>P05346</td>\n",
       "      <td>Velachery</td>\n",
       "      <td>1855</td>\n",
       "      <td>14</td>\n",
       "      <td>3.0</td>\n",
       "      <td>2.0</td>\n",
       "      <td>5</td>\n",
       "      <td>Family</td>\n",
       "      <td>No</td>\n",
       "      <td>Others</td>\n",
       "      <td>Nosewr</td>\n",
       "      <td>Paved</td>\n",
       "      <td>I</td>\n",
       "      <td>4.7</td>\n",
       "      <td>3.9</td>\n",
       "      <td>3.6</td>\n",
       "      <td>4.010</td>\n",
       "      <td>77042</td>\n",
       "    </tr>\n",
       "    <tr>\n",
       "      <th>4</th>\n",
       "      <td>P06210</td>\n",
       "      <td>Karapakkam</td>\n",
       "      <td>1226</td>\n",
       "      <td>84</td>\n",
       "      <td>1.0</td>\n",
       "      <td>1.0</td>\n",
       "      <td>3</td>\n",
       "      <td>Abnormal</td>\n",
       "      <td>Yes</td>\n",
       "      <td>Others</td>\n",
       "      <td>Allpub</td>\n",
       "      <td>Gravel</td>\n",
       "      <td>C</td>\n",
       "      <td>3.0</td>\n",
       "      <td>2.5</td>\n",
       "      <td>4.1</td>\n",
       "      <td>3.290</td>\n",
       "      <td>74063</td>\n",
       "    </tr>\n",
       "    <tr>\n",
       "      <th>...</th>\n",
       "      <td>...</td>\n",
       "      <td>...</td>\n",
       "      <td>...</td>\n",
       "      <td>...</td>\n",
       "      <td>...</td>\n",
       "      <td>...</td>\n",
       "      <td>...</td>\n",
       "      <td>...</td>\n",
       "      <td>...</td>\n",
       "      <td>...</td>\n",
       "      <td>...</td>\n",
       "      <td>...</td>\n",
       "      <td>...</td>\n",
       "      <td>...</td>\n",
       "      <td>...</td>\n",
       "      <td>...</td>\n",
       "      <td>...</td>\n",
       "      <td>...</td>\n",
       "    </tr>\n",
       "    <tr>\n",
       "      <th>7105</th>\n",
       "      <td>P10000</td>\n",
       "      <td>Velachery</td>\n",
       "      <td>1897</td>\n",
       "      <td>52</td>\n",
       "      <td>3.0</td>\n",
       "      <td>2.0</td>\n",
       "      <td>5</td>\n",
       "      <td>Family</td>\n",
       "      <td>Yes</td>\n",
       "      <td>Others</td>\n",
       "      <td>Nosewa</td>\n",
       "      <td>No Access</td>\n",
       "      <td>RH</td>\n",
       "      <td>3.6</td>\n",
       "      <td>4.5</td>\n",
       "      <td>3.3</td>\n",
       "      <td>3.920</td>\n",
       "      <td>205551</td>\n",
       "    </tr>\n",
       "    <tr>\n",
       "      <th>7106</th>\n",
       "      <td>P09594</td>\n",
       "      <td>Velachery</td>\n",
       "      <td>1614</td>\n",
       "      <td>152</td>\n",
       "      <td>2.0</td>\n",
       "      <td>1.0</td>\n",
       "      <td>4</td>\n",
       "      <td>Normal Sale</td>\n",
       "      <td>No</td>\n",
       "      <td>House</td>\n",
       "      <td>Nosewa</td>\n",
       "      <td>Gravel</td>\n",
       "      <td>I</td>\n",
       "      <td>4.3</td>\n",
       "      <td>4.2</td>\n",
       "      <td>2.9</td>\n",
       "      <td>3.840</td>\n",
       "      <td>167028</td>\n",
       "    </tr>\n",
       "    <tr>\n",
       "      <th>7107</th>\n",
       "      <td>P06508</td>\n",
       "      <td>Karapakkam</td>\n",
       "      <td>787</td>\n",
       "      <td>40</td>\n",
       "      <td>1.0</td>\n",
       "      <td>1.0</td>\n",
       "      <td>2</td>\n",
       "      <td>Partial</td>\n",
       "      <td>Yes</td>\n",
       "      <td>Commercial</td>\n",
       "      <td>Elo</td>\n",
       "      <td>Paved</td>\n",
       "      <td>RL</td>\n",
       "      <td>4.6</td>\n",
       "      <td>3.8</td>\n",
       "      <td>4.1</td>\n",
       "      <td>4.160</td>\n",
       "      <td>119098</td>\n",
       "    </tr>\n",
       "    <tr>\n",
       "      <th>7108</th>\n",
       "      <td>P09794</td>\n",
       "      <td>Velachery</td>\n",
       "      <td>1896</td>\n",
       "      <td>156</td>\n",
       "      <td>3.0</td>\n",
       "      <td>2.0</td>\n",
       "      <td>5</td>\n",
       "      <td>Partial</td>\n",
       "      <td>Yes</td>\n",
       "      <td>Others</td>\n",
       "      <td>Elo</td>\n",
       "      <td>Paved</td>\n",
       "      <td>I</td>\n",
       "      <td>3.1</td>\n",
       "      <td>3.5</td>\n",
       "      <td>4.3</td>\n",
       "      <td>3.640</td>\n",
       "      <td>79812</td>\n",
       "    </tr>\n",
       "    <tr>\n",
       "      <th>7109</th>\n",
       "      <td>P03210</td>\n",
       "      <td>Karapakkam</td>\n",
       "      <td>1200</td>\n",
       "      <td>50</td>\n",
       "      <td>3.0</td>\n",
       "      <td>2.0</td>\n",
       "      <td>5</td>\n",
       "      <td>Abnormal</td>\n",
       "      <td>Yes</td>\n",
       "      <td>Commercial</td>\n",
       "      <td>Allpub</td>\n",
       "      <td>Paved</td>\n",
       "      <td>A</td>\n",
       "      <td>4.0</td>\n",
       "      <td>3.6</td>\n",
       "      <td>4.5</td>\n",
       "      <td>4.000</td>\n",
       "      <td>120000</td>\n",
       "    </tr>\n",
       "  </tbody>\n",
       "</table>\n",
       "<p>7110 rows × 18 columns</p>\n",
       "</div>"
      ],
      "text/plain": [
       "      PRT_ID        AREA  INT_SQFT  DIST_MAINROAD  N_BEDROOM  N_BATHROOM  \\\n",
       "0     P03210  Karapakkam      1004            131        1.0         1.0   \n",
       "1     P09411  Anna Nagar      1986             26        2.0         1.0   \n",
       "2     P01812       Adyar       909             70        1.0         1.0   \n",
       "3     P05346   Velachery      1855             14        3.0         2.0   \n",
       "4     P06210  Karapakkam      1226             84        1.0         1.0   \n",
       "...      ...         ...       ...            ...        ...         ...   \n",
       "7105  P10000   Velachery      1897             52        3.0         2.0   \n",
       "7106  P09594   Velachery      1614            152        2.0         1.0   \n",
       "7107  P06508  Karapakkam       787             40        1.0         1.0   \n",
       "7108  P09794   Velachery      1896            156        3.0         2.0   \n",
       "7109  P03210  Karapakkam      1200             50        3.0         2.0   \n",
       "\n",
       "      N_ROOM    SALE_COND PARK_FACIL   BUILDTYPE UTILITY_AVAIL     STREET  \\\n",
       "0          3     Abnormal        Yes  Commercial        Allpub      Paved   \n",
       "1          5     Abnormal         No  Commercial        Allpub     Gravel   \n",
       "2          3     Abnormal        Yes  Commercial           Elo     Gravel   \n",
       "3          5       Family         No      Others       Nosewr       Paved   \n",
       "4          3     Abnormal        Yes      Others        Allpub     Gravel   \n",
       "...      ...          ...        ...         ...           ...        ...   \n",
       "7105       5       Family        Yes      Others        Nosewa  No Access   \n",
       "7106       4  Normal Sale         No       House        Nosewa     Gravel   \n",
       "7107       2      Partial        Yes  Commercial           Elo      Paved   \n",
       "7108       5      Partial        Yes      Others           Elo      Paved   \n",
       "7109       5     Abnormal        Yes  Commercial        Allpub      Paved   \n",
       "\n",
       "     MZZONE  QS_ROOMS  QS_BATHROOM  QS_BEDROOM  QS_OVERALL  COMMIS  \n",
       "0         A       4.0          3.9         4.9       4.330  144400  \n",
       "1        RH       4.9          4.2         2.5       3.765  304049  \n",
       "2        RL       4.1          3.8         2.2       3.090   92114  \n",
       "3         I       4.7          3.9         3.6       4.010   77042  \n",
       "4         C       3.0          2.5         4.1       3.290   74063  \n",
       "...     ...       ...          ...         ...         ...     ...  \n",
       "7105     RH       3.6          4.5         3.3       3.920  205551  \n",
       "7106      I       4.3          4.2         2.9       3.840  167028  \n",
       "7107     RL       4.6          3.8         4.1       4.160  119098  \n",
       "7108      I       3.1          3.5         4.3       3.640   79812  \n",
       "7109      A       4.0          3.6         4.5       4.000  120000  \n",
       "\n",
       "[7110 rows x 18 columns]"
      ]
     },
     "execution_count": 11,
     "metadata": {},
     "output_type": "execute_result"
    }
   ],
   "source": [
    "X"
   ]
  },
  {
   "cell_type": "code",
   "execution_count": 12,
   "id": "ed671f93",
   "metadata": {},
   "outputs": [
    {
     "data": {
      "text/plain": [
       "0        7600000\n",
       "1       21717770\n",
       "2       13159200\n",
       "3        9630290\n",
       "4        7406250\n",
       "          ...   \n",
       "7105    10818480\n",
       "7106     8351410\n",
       "7107     8507000\n",
       "7108     9976480\n",
       "7109     2334556\n",
       "Name: SALES_PRICE, Length: 7110, dtype: int64"
      ]
     },
     "execution_count": 12,
     "metadata": {},
     "output_type": "execute_result"
    }
   ],
   "source": [
    "y"
   ]
  },
  {
   "cell_type": "markdown",
   "id": "bb8f3e98",
   "metadata": {},
   "source": [
    "## Counts based on sales price"
   ]
  },
  {
   "cell_type": "code",
   "execution_count": 13,
   "id": "6cf76567",
   "metadata": {},
   "outputs": [
    {
     "data": {
      "image/png": "[encoded data removed]",
      "text/plain": [
       "<Figure size 640x480 with 1 Axes>"
      ]
     },
     "metadata": {},
     "output_type": "display_data"
    }
   ],
   "source": [
    "unique_sales_price=housing['SALES_PRICE'].value_counts().sort_index()\n",
    "unique_sales_price\n",
    "unique_sales_price.head(20).plot(kind='bar', color='mediumseagreen')\n",
    "plt.title('Number of Properties by Sales Price')\n",
    "plt.xlabel('Sales Price')\n",
    "plt.ylabel('Count')\n",
    "plt.xticks(rotation=90)\n",
    "plt.tight_layout()\n",
    "plt.show()"
   ]
  },
  {
   "cell_type": "markdown",
   "id": "7b87461c",
   "metadata": {},
   "source": [
    "## Identifying numerical and categorical columns"
   ]
  },
  {
   "cell_type": "code",
   "execution_count": 14,
   "id": "a3bd227b",
   "metadata": {},
   "outputs": [],
   "source": [
    "numerical_cols = X.select_dtypes(include=[\"int64\", \"float64\"]).columns\n",
    "categorical_cols = X.select_dtypes(include=[\"object\"]).columns"
   ]
  },
  {
   "cell_type": "code",
   "execution_count": 15,
   "id": "9ad994c7",
   "metadata": {},
   "outputs": [
    {
     "name": "stdout",
     "output_type": "stream",
     "text": [
      "Numeric columns: Index(['INT_SQFT', 'DIST_MAINROAD', 'N_BEDROOM', 'N_BATHROOM', 'N_ROOM',\n",
      "       'QS_ROOMS', 'QS_BATHROOM', 'QS_BEDROOM', 'QS_OVERALL', 'COMMIS'],\n",
      "      dtype='object')\n"
     ]
    }
   ],
   "source": [
    "print(\"Numeric columns:\",numerical_cols)"
   ]
  },
  {
   "cell_type": "code",
   "execution_count": 16,
   "id": "ec099bfc",
   "metadata": {},
   "outputs": [
    {
     "name": "stdout",
     "output_type": "stream",
     "text": [
      "Number of numeric columns: 10\n"
     ]
    }
   ],
   "source": [
    "numeric_cols = X.select_dtypes(include=[\"int64\", \"float64\"])\n",
    "print(\"Number of numeric columns:\", len(numeric_cols.columns))"
   ]
  },
  {
   "cell_type": "code",
   "execution_count": 17,
   "id": "415f7465",
   "metadata": {},
   "outputs": [
    {
     "name": "stdout",
     "output_type": "stream",
     "text": [
      "categorical_cols: Index(['PRT_ID', 'AREA', 'SALE_COND', 'PARK_FACIL', 'BUILDTYPE',\n",
      "       'UTILITY_AVAIL', 'STREET', 'MZZONE'],\n",
      "      dtype='object')\n"
     ]
    }
   ],
   "source": [
    "print(\"categorical_cols:\",categorical_cols)"
   ]
  },
  {
   "cell_type": "code",
   "execution_count": 18,
   "id": "a4521dc2",
   "metadata": {},
   "outputs": [
    {
     "name": "stdout",
     "output_type": "stream",
     "text": [
      "Number of categorical columns: 10\n"
     ]
    }
   ],
   "source": [
    "category_cols = X.select_dtypes(include=[\"int64\", \"float64\"])\n",
    "print(\"Number of categorical columns:\", len(category_cols.columns))"
   ]
  },
  {
   "cell_type": "markdown",
   "id": "9cee3499",
   "metadata": {},
   "source": [
    "## Preprocessing pipeline for numerical data"
   ]
  },
  {
   "cell_type": "code",
   "execution_count": 19,
   "id": "cd4ee523",
   "metadata": {},
   "outputs": [],
   "source": [
    "numerical_pipeline = Pipeline([\n",
    "    ('imputer', SimpleImputer(strategy='mean')),  # Impute missing values\n",
    "    ('scaler', StandardScaler())  # Standardize numerical data\n",
    "])\n",
    "\n",
    "# Preprocessing pipeline for categorical data\n",
    "categorical_pipeline = Pipeline([\n",
    "    ('imputer', SimpleImputer(strategy='most_frequent')),  # Impute missing values\n",
    "    ('encoder', OneHotEncoder(handle_unknown='ignore'))  # One-hot encode categorical data\n",
    "])\n",
    "\n",
    "# Combine numerical and categorical pipelines using ColumnTransformer\n",
    "preprocessor = ColumnTransformer([\n",
    "    ('num', numerical_pipeline, numerical_cols),\n",
    "    ('cat', categorical_pipeline, categorical_cols)\n",
    "])"
   ]
  },
  {
   "cell_type": "markdown",
   "id": "a9f3c0e4",
   "metadata": {},
   "source": [
    "## Train-test split"
   ]
  },
  {
   "cell_type": "code",
   "execution_count": 20,
   "id": "5196d5c8",
   "metadata": {},
   "outputs": [],
   "source": [
    "X_train, X_test, y_train, y_test = train_test_split(X, y, test_size=0.2, random_state=42)"
   ]
  },
  {
   "cell_type": "markdown",
   "id": "b88ae7b8",
   "metadata": {},
   "source": [
    "## Model training and evaluation function"
   ]
  },
  {
   "cell_type": "code",
   "execution_count": 21,
   "id": "b2059b3b",
   "metadata": {},
   "outputs": [
    {
     "name": "stdout",
     "output_type": "stream",
     "text": [
      "LinearRegression - MSE: 1731518311073.76, MAE: 1060522.56, R-squared: 0.88\n",
      "DecisionTreeRegressor - MSE: 587210673635.32, MAE: 594602.21, R-squared: 0.96\n",
      "RandomForestRegressor - MSE: 269716971196.65, MAE: 402347.95, R-squared: 0.98\n",
      "GradientBoostingRegressor - MSE: 192272218101.72, MAE: 342257.48, R-squared: 0.99\n",
      "Evaluation metrics saved successfully!\n"
     ]
    }
   ],
   "source": [
    "all_metrics = {} \n",
    "def evaluate_model(model):\n",
    "    model_pipeline = Pipeline([\n",
    "        ('preprocessor', preprocessor),\n",
    "        ('model', model)\n",
    "    ])\n",
    "    \n",
    "    # Training the model\n",
    "    model_pipeline.fit(X_train, y_train)\n",
    "    \n",
    "    # Predicting on the test set\n",
    "    y_pred = model_pipeline.predict(X_test)\n",
    "    \n",
    "    # Evaluation metrics\n",
    "    mse = mean_squared_error(y_test, y_pred)\n",
    "    mae = mean_absolute_error(y_test, y_pred)\n",
    "    r2 = r2_score(y_test, y_pred)\n",
    "    \n",
    "    print(f\"{model.__class__.__name__} - MSE: {mse:.2f}, MAE: {mae:.2f}, R-squared: {r2:.2f}\")\n",
    "    all_metrics[model.__class__.__name__] = {\n",
    "        'MSE': round(mse, 2),\n",
    "        'MAE': round(mae, 2),\n",
    "        'R2': round(r2, 2)\n",
    "    }\n",
    "# Define models\n",
    "models = [\n",
    "    LinearRegression(),\n",
    "    DecisionTreeRegressor(random_state=42),\n",
    "    RandomForestRegressor(random_state=42),\n",
    "    GradientBoostingRegressor(random_state=42)\n",
    "]\n",
    "\n",
    "# Evaluate models\n",
    "for model in models:\n",
    "    evaluate_model(model)\n",
    "    with open(r'D:\\house_price_prediction\\Model\\evaluation_metrics.json', 'w') as f:\n",
    "        json.dump(all_metrics, f, indent=4)\n",
    "print(\"Evaluation metrics saved successfully!\")"
   ]
  },
  {
   "cell_type": "markdown",
   "id": "26a23517",
   "metadata": {},
   "source": [
    "## Saving Model"
   ]
  },
  {
   "cell_type": "code",
   "execution_count": 22,
   "id": "54856ad7",
   "metadata": {},
   "outputs": [
    {
     "name": "stdout",
     "output_type": "stream",
     "text": [
      "Model saved successfully\n"
     ]
    }
   ],
   "source": [
    "def predict_random_entries(model):\n",
    "    model_pipeline = Pipeline([\n",
    "        ('preprocessor', preprocessor),\n",
    "        ('model', model)\n",
    "    ])\n",
    "    model_pipeline.fit(X_train, y_train)  # Fitting the model\n",
    "    return model_pipeline\n",
    "model_pipeline = predict_random_entries(RandomForestRegressor(random_state=42))\n",
    "joblib.dump(model_pipeline, r\"D:\\house_price_prediction\\Model\\chennai_house_price_prediction_model.sav\")\n",
    "print(\"Model saved successfully\")# Dumping the model"
   ]
  },
  {
   "cell_type": "markdown",
   "id": "732c515f",
   "metadata": {},
   "source": [
    "## Loading model and predicting with random data entries"
   ]
  },
  {
   "cell_type": "code",
   "execution_count": 23,
   "id": "7a6b646c",
   "metadata": {},
   "outputs": [
    {
     "name": "stdout",
     "output_type": "stream",
     "text": [
      "Predicted price for property : ₹14,053,355.80\n"
     ]
    }
   ],
   "source": [
    "model_loaded = joblib.load(r\"D:\\house_price_prediction\\Model\\chennai_house_price_prediction_model.sav\")\n",
    "\n",
    "random_data = pd.DataFrame({\n",
    "    'PRT_ID': ['P10001', 'P10002', 'P10003', 'P10004', 'P10005'],\n",
    "    'AREA': ['Adyar', 'Anna Nagar', 'Velachery', 'Karapakkam', 'T Nagar'],\n",
    "    'INT_SQFT': [1200, 1800, 1500, 1000, 2000],\n",
    "    'DIST_MAINROAD': [50, 100, 200, 150, 80],\n",
    "    'N_BEDROOM': [3, 2, 4, 2, 3],\n",
    "    'N_BATHROOM': [2, 1, 2, 1, 2],\n",
    "    'N_ROOM': [5, 6, 6, 4, 6],\n",
    "    'SALE_COND': ['AbNormal', 'Family', 'AbNormal', 'AbNormal', 'Family'],\n",
    "    'PARK_FACIL': ['Yes', 'No', 'Yes', 'No', 'Yes'],\n",
    "    'BUILDTYPE': ['Commercial', 'Others', 'Commercial', 'Others', 'Commercial'],\n",
    "    'UTILITY_AVAIL': ['AllPub', 'NoSewr', 'AllPub', 'AllPub', 'AllPub'],\n",
    "    'STREET': ['Paved', 'Gravel', 'Paved', 'Gravel', 'Paved'],\n",
    "    'MZZONE': ['A', 'RH', 'RL', 'I', 'C'],\n",
    "    'QS_ROOMS': [4, 5, 4, 3, 4],\n",
    "    'QS_BATHROOM': [3.9, 4.2, 3.5, 4.0, 3.7],\n",
    "    'QS_BEDROOM': [4.5, 3.8, 4.3, 3.9, 4.0],\n",
    "    'QS_OVERALL': [4.0, 3.8, 4.2, 4.1, 3.9],\n",
    "    'COMMIS': [120000, 200000, 150000, 180000, 170000]\n",
    "})\n",
    "\n",
    "predictions = model_loaded.predict(random_data)\n",
    "print(f\"Predicted price for property : ₹{predictions[0]:,.2f}\")"
   ]
  }
 ],
 "metadata": {
  "kernelspec": {
   "display_name": "Python 3 (ipykernel)",
   "language": "python",
   "name": "python3"
  },
  "language_info": {
   "codemirror_mode": {
    "name": "ipython",
    "version": 3
   },
   "file_extension": ".py",
   "mimetype": "text/x-python",
   "name": "python",
   "nbconvert_exporter": "python",
   "pygments_lexer": "ipython3",
   "version": "3.10.9"
  }
 },
 "nbformat": 4,
 "nbformat_minor": 5
}
